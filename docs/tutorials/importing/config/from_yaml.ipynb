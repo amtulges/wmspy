{
 "cells": [
  {
   "cell_type": "markdown",
   "id": "279bd7f0",
   "metadata": {},
   "source": [
    "Configuration settings can be stored in a .yaml file \n",
    "\n",
    "All of the child and parent config classes can be instantiated by **\\<class\\>.from_yaml(filepath)** as demonstrated below."
   ]
  },
  {
   "cell_type": "code",
   "execution_count": 2,
   "id": "19d2515f",
   "metadata": {},
   "outputs": [
    {
     "name": "stdout",
     "output_type": "stream",
     "text": [
      "TotalConfig(laser=Laser(fs=1000.0, fm=[245000.0, 250000.0]), daq=Daq(sr=10000000.0, pre=0, npoints=64000), etalon=Etalon(sr=100000000.0, fsr=0.0162, pre=0, npoints=640000), filters=Filters(passband=20000.0, stopband=40000.0, passripple=0.1, stopripple=30.0, nharmonics=2, multirate=True, fir=False, ftype=None), files=Files(et=['Ref1_Et1_1kHz.tdms', 'Ref2_Et2_1kHz.tdms'], ref=['Ref1_Et1_1kHz.tdms', 'Ref2_Et2_1kHz.tdms'], bkg='Bkg_1kHz.tdms', meas='Run11.tdms', dark=None), channels=Channels(et=[1, 1], ref=[0, 0], bkg=[0, 1], meas=[0, 1], dark=None), folder='C:/Users/amtulges/Documents/H2O_TDLAS/RDE_TDLAS/07212022')\n"
     ]
    }
   ],
   "source": [
    "%cd ../../../../\n",
    "from wmspy.datatypes.config import TotalConfig\n",
    "file = 'data/total_config'\n",
    "cfg = TotalConfig.from_yaml(file)\n",
    "print(cfg)"
   ]
  },
  {
   "cell_type": "markdown",
   "id": "8b4bbbe9",
   "metadata": {},
   "source": [
    "The TotalConfig object is made of child configs which can be accessed as attributes of the TotalConfig with a dot"
   ]
  },
  {
   "cell_type": "code",
   "execution_count": 3,
   "id": "7e320eb0",
   "metadata": {},
   "outputs": [
    {
     "name": "stdout",
     "output_type": "stream",
     "text": [
      "<class 'wmspy.datatypes.config.Laser'>\n",
      "Laser(fs=1000.0, fm=[245000.0, 250000.0])\n"
     ]
    }
   ],
   "source": [
    "print(type(cfg.laser))\n",
    "print(cfg.laser)"
   ]
  },
  {
   "cell_type": "markdown",
   "id": "f66b3421",
   "metadata": {},
   "source": [
    "Individual settings can then also be accessed as attributes"
   ]
  },
  {
   "cell_type": "code",
   "execution_count": 4,
   "id": "6f01dd3b",
   "metadata": {},
   "outputs": [
    {
     "data": {
      "text/plain": [
       "[245000.0, 250000.0]"
      ]
     },
     "execution_count": 4,
     "metadata": {},
     "output_type": "execute_result"
    }
   ],
   "source": [
    "cfg.laser.fm"
   ]
  }
 ],
 "metadata": {
  "kernelspec": {
   "display_name": "Python 3 (ipykernel)",
   "language": "python",
   "name": "python3"
  },
  "language_info": {
   "codemirror_mode": {
    "name": "ipython",
    "version": 3
   },
   "file_extension": ".py",
   "mimetype": "text/x-python",
   "name": "python",
   "nbconvert_exporter": "python",
   "pygments_lexer": "ipython3",
   "version": "3.8.13"
  }
 },
 "nbformat": 4,
 "nbformat_minor": 5
}
