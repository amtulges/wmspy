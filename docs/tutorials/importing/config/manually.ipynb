{
 "cells": [
  {
   "cell_type": "markdown",
   "id": "fc136b51",
   "metadata": {},
   "source": [
    "Configuration settings can be created manually"
   ]
  },
  {
   "cell_type": "code",
   "execution_count": 1,
   "id": "c42a0a7f",
   "metadata": {},
   "outputs": [
    {
     "name": "stdout",
     "output_type": "stream",
     "text": [
      "C:\\Users\\amtul\\OneDrive\\Documents\\Python\\wmspy\n",
      "Laser(fs=10, fm=[100, 125])\n"
     ]
    }
   ],
   "source": [
    "%cd ../../../../\n",
    "from wmspy.datatypes.config import Laser\n",
    "fs = 10  # Hz\n",
    "fm = [100, 125]  # Hz\n",
    "cfg = Laser(fs, fm)\n",
    "print(cfg)"
   ]
  },
  {
   "cell_type": "markdown",
   "id": "d3840c69",
   "metadata": {},
   "source": [
    "Individual settings can be accessed as attributes."
   ]
  },
  {
   "cell_type": "code",
   "execution_count": 3,
   "id": "fc25ef2f",
   "metadata": {},
   "outputs": [
    {
     "data": {
      "text/plain": [
       "[0.01, 0.008]"
      ]
     },
     "execution_count": 3,
     "metadata": {},
     "output_type": "execute_result"
    }
   ],
   "source": [
    "cfg.Tm"
   ]
  },
  {
   "cell_type": "markdown",
   "id": "c128a69e",
   "metadata": {},
   "source": [
    "Groups of certain child config objects can be grouped into parent config objects, but it is generally easier to create parent configs by importing a yaml file."
   ]
  }
 ],
 "metadata": {
  "kernelspec": {
   "display_name": "wmspy",
   "language": "python",
   "name": "wmspy"
  },
  "language_info": {
   "codemirror_mode": {
    "name": "ipython",
    "version": 3
   },
   "file_extension": ".py",
   "mimetype": "text/x-python",
   "name": "python",
   "nbconvert_exporter": "python",
   "pygments_lexer": "ipython3",
   "version": "3.8.13"
  }
 },
 "nbformat": 4,
 "nbformat_minor": 5
}
